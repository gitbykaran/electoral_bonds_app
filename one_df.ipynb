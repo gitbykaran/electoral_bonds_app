{
 "cells": [
  {
   "cell_type": "code",
   "execution_count": 3,
   "metadata": {},
   "outputs": [],
   "source": [
    "import pandas as pd \n",
    "df1=pd.read_csv('electroral_bonds_buyer_data.csv')\n",
    "df2 = pd.read_csv('electroral_bonds_receiver_data.csv')"
   ]
  },
  {
   "cell_type": "code",
   "execution_count": 4,
   "metadata": {},
   "outputs": [],
   "source": [
    "df = pd.merge(df1,df2,on='Unnamed: 0')\n",
    "df= df.drop(columns=['Unnamed: 0'],axis=1)\n",
    "df=df.rename(columns={'Date of\\nEncashment':'encashment_date','Name of the Political Party':'pol_party','Date of Purchase':'purchased_date','Purchaser Name':'purchaser_name','Denomination_x':'price'})\n",
    "df= df.drop(columns=['Denomination_y'],axis=1)\n",
    "df['encashment_date']= df.encashment_date.str.replace('/','-')\n",
    "df['purchased_date']= df.encashment_date.str.replace('/','-')\n"
   ]
  },
  {
   "cell_type": "code",
   "execution_count": 10,
   "metadata": {},
   "outputs": [],
   "source": [
    "df.to_csv('bonds.csv',index=False)"
   ]
  }
 ],
 "metadata": {
  "kernelspec": {
   "display_name": "Python 3",
   "language": "python",
   "name": "python3"
  },
  "language_info": {
   "codemirror_mode": {
    "name": "ipython",
    "version": 3
   },
   "file_extension": ".py",
   "mimetype": "text/x-python",
   "name": "python",
   "nbconvert_exporter": "python",
   "pygments_lexer": "ipython3",
   "version": "3.10.5"
  }
 },
 "nbformat": 4,
 "nbformat_minor": 2
}
